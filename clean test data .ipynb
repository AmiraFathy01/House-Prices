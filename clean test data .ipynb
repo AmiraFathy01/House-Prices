{
 "cells": [
  {
   "cell_type": "code",
   "execution_count": 1,
   "metadata": {},
   "outputs": [],
   "source": [
    "# import libraries\n",
    "import joblib\n",
    "import pandas as pd\n",
    "import numpy as np\n",
    "from sklearn.preprocessing import OrdinalEncoder,StandardScaler\n",
    "from sklearn.model_selection import train_test_split\n",
    "from xgboost import XGBClassifier,XGBRegressor\n",
    "from sklearn.feature_selection import SelectPercentile , chi2\n",
    "import warnings\n"
   ]
  },
  {
   "cell_type": "markdown",
   "metadata": {},
   "source": [
    "# load test data "
   ]
  },
  {
   "cell_type": "code",
   "execution_count": 2,
   "metadata": {},
   "outputs": [],
   "source": [
    "df=pd.read_csv('test.csv')"
   ]
  },
  {
   "cell_type": "code",
   "execution_count": 3,
   "metadata": {},
   "outputs": [
    {
     "name": "stdout",
     "output_type": "stream",
     "text": [
      "<class 'pandas.core.frame.DataFrame'>\n",
      "RangeIndex: 1459 entries, 0 to 1458\n",
      "Data columns (total 15 columns):\n",
      " #   Column        Non-Null Count  Dtype  \n",
      "---  ------        --------------  -----  \n",
      " 0   OverallQual   1459 non-null   int64  \n",
      " 1   GrLivArea     1459 non-null   int64  \n",
      " 2   GarageCars    1458 non-null   float64\n",
      " 3   TotalBsmtSF   1458 non-null   float64\n",
      " 4   FullBath      1459 non-null   int64  \n",
      " 5   YearBuilt     1459 non-null   int64  \n",
      " 6   YearRemodAdd  1459 non-null   int64  \n",
      " 7   MasVnrArea    1444 non-null   float64\n",
      " 8   Fireplaces    1459 non-null   int64  \n",
      " 9   BsmtFinSF1    1458 non-null   float64\n",
      " 10  Foundation    1459 non-null   object \n",
      " 11  LotFrontage   1232 non-null   float64\n",
      " 12  WoodDeckSF    1459 non-null   int64  \n",
      " 13  2ndFlrSF      1459 non-null   int64  \n",
      " 14  OpenPorchSF   1459 non-null   int64  \n",
      "dtypes: float64(5), int64(9), object(1)\n",
      "memory usage: 171.1+ KB\n"
     ]
    }
   ],
   "source": [
    "# select features we need to get the saleprice \n",
    "features =df[[ 'OverallQual', 'GrLivArea', 'GarageCars', 'TotalBsmtSF',\n",
    "       'FullBath', 'YearBuilt', 'YearRemodAdd', 'MasVnrArea', 'Fireplaces',\n",
    "       'BsmtFinSF1', 'Foundation', 'LotFrontage', 'WoodDeckSF', '2ndFlrSF',\n",
    "       'OpenPorchSF']]\n",
    "features.info()"
   ]
  },
  {
   "cell_type": "markdown",
   "metadata": {},
   "source": [
    " ##### notes : \n",
    " i found nan data \n",
    " so i will fixed it before get saleprice "
   ]
  },
  {
   "cell_type": "markdown",
   "metadata": {},
   "source": [
    "### 1-LotFrontage"
   ]
  },
  {
   "cell_type": "code",
   "execution_count": 4,
   "metadata": {},
   "outputs": [],
   "source": [
    "# data nan ( to prediction it )\n",
    "df_p=df[['LotArea', 'BsmtFinSF1', 'BsmtFinSF2', 'PoolArea', 'MiscVal','LotFrontage']]\n",
    "nan_lotfrontage = df.query('LotFrontage==\"nan\"')\n",
    "df_p=df_p.drop(nan_lotfrontage.index,axis=0)\n"
   ]
  },
  {
   "cell_type": "code",
   "execution_count": 5,
   "metadata": {},
   "outputs": [],
   "source": [
    "### sepreate  nan  to predict  it in model \n",
    "X_nan=nan_lotfrontage[['LotArea', 'BsmtFinSF1', 'BsmtFinSF2', 'PoolArea', 'MiscVal']]\n",
    "X_nan=X_nan.dropna()"
   ]
  },
  {
   "cell_type": "code",
   "execution_count": 6,
   "metadata": {},
   "outputs": [],
   "source": [
    "standard_scaler=StandardScaler()\n",
    "X_nan2=standard_scaler.fit(X_nan)\n",
    "X_nan3=X_nan2.transform(X_nan)"
   ]
  },
  {
   "cell_type": "markdown",
   "metadata": {},
   "source": [
    "##  model  LotFrontage"
   ]
  },
  {
   "cell_type": "code",
   "execution_count": 7,
   "metadata": {},
   "outputs": [],
   "source": [
    "# drop nan \n",
    "df_p=df_p.dropna()\n"
   ]
  },
  {
   "cell_type": "code",
   "execution_count": 8,
   "metadata": {},
   "outputs": [],
   "source": [
    "X=df_p[['LotArea','BsmtFinSF1', 'BsmtFinSF2', 'PoolArea', 'MiscVal']]\n",
    "y=df_p[['LotFrontage']]\n"
   ]
  },
  {
   "cell_type": "code",
   "execution_count": 9,
   "metadata": {},
   "outputs": [],
   "source": [
    "standard_scaler=StandardScaler()\n",
    "X=standard_scaler.fit_transform(X)\n",
    "y=standard_scaler.fit_transform(y)"
   ]
  },
  {
   "cell_type": "code",
   "execution_count": 10,
   "metadata": {},
   "outputs": [],
   "source": [
    "x_train,x_test,y_train,y_test=train_test_split(X,y,test_size=0.25, random_state=33)"
   ]
  },
  {
   "cell_type": "code",
   "execution_count": 11,
   "metadata": {},
   "outputs": [
    {
     "data": {
      "text/plain": [
       "0.07568217234327627"
      ]
     },
     "execution_count": 11,
     "metadata": {},
     "output_type": "execute_result"
    }
   ],
   "source": [
    "# the model \n",
    "from sklearn.metrics import confusion_matrix, accuracy_score, precision_score, recall_score,f1_score,mean_squared_error\n",
    "\n",
    "XGB=XGBRegressor(n_estimators=5000, max_depth=3, learning_rate=0.5)\n",
    "XGB=XGB.fit(X,y) \n",
    "y_pred=XGB.predict(x_test)\n",
    "mean_squared_error(y_test, y_pred,squared=False)\n"
   ]
  },
  {
   "cell_type": "code",
   "execution_count": 12,
   "metadata": {},
   "outputs": [],
   "source": [
    "value_lotfrontage=XGB.predict(X_nan3)\n"
   ]
  },
  {
   "cell_type": "code",
   "execution_count": 13,
   "metadata": {},
   "outputs": [],
   "source": [
    "#convert  1D to 2D \n",
    "value_lotfrontage=np.reshape(value_lotfrontage,(227 ,1))"
   ]
  },
  {
   "cell_type": "markdown",
   "metadata": {},
   "source": [
    "### value of nan lotfrontage"
   ]
  },
  {
   "cell_type": "code",
   "execution_count": 14,
   "metadata": {},
   "outputs": [],
   "source": [
    "# get the value \n",
    "value_lotfrontage=standard_scaler.inverse_transform(value_lotfrontage)\n",
    "value_lotfrontage=list(value_lotfrontage)\n"
   ]
  },
  {
   "cell_type": "code",
   "execution_count": 15,
   "metadata": {},
   "outputs": [
    {
     "data": {
      "text/html": [
       "<div>\n",
       "<style scoped>\n",
       "    .dataframe tbody tr th:only-of-type {\n",
       "        vertical-align: middle;\n",
       "    }\n",
       "\n",
       "    .dataframe tbody tr th {\n",
       "        vertical-align: top;\n",
       "    }\n",
       "\n",
       "    .dataframe thead th {\n",
       "        text-align: right;\n",
       "    }\n",
       "</style>\n",
       "<table border=\"1\" class=\"dataframe\">\n",
       "  <thead>\n",
       "    <tr style=\"text-align: right;\">\n",
       "      <th></th>\n",
       "      <th>LotArea</th>\n",
       "      <th>LotFrontage</th>\n",
       "      <th>BsmtFinSF1</th>\n",
       "      <th>BsmtFinSF2</th>\n",
       "      <th>PoolArea</th>\n",
       "      <th>MiscVal</th>\n",
       "    </tr>\n",
       "  </thead>\n",
       "  <tbody>\n",
       "    <tr>\n",
       "      <th>6</th>\n",
       "      <td>7980</td>\n",
       "      <td>44</td>\n",
       "      <td>935.0</td>\n",
       "      <td>0.0</td>\n",
       "      <td>0</td>\n",
       "      <td>500</td>\n",
       "    </tr>\n",
       "    <tr>\n",
       "      <th>40</th>\n",
       "      <td>2980</td>\n",
       "      <td>40</td>\n",
       "      <td>466.0</td>\n",
       "      <td>0.0</td>\n",
       "      <td>0</td>\n",
       "      <td>0</td>\n",
       "    </tr>\n",
       "    <tr>\n",
       "      <th>41</th>\n",
       "      <td>2403</td>\n",
       "      <td>40</td>\n",
       "      <td>244.0</td>\n",
       "      <td>0.0</td>\n",
       "      <td>0</td>\n",
       "      <td>0</td>\n",
       "    </tr>\n",
       "    <tr>\n",
       "      <th>45</th>\n",
       "      <td>10456</td>\n",
       "      <td>74</td>\n",
       "      <td>506.0</td>\n",
       "      <td>0.0</td>\n",
       "      <td>0</td>\n",
       "      <td>0</td>\n",
       "    </tr>\n",
       "    <tr>\n",
       "      <th>47</th>\n",
       "      <td>18837</td>\n",
       "      <td>70</td>\n",
       "      <td>687.0</td>\n",
       "      <td>46.0</td>\n",
       "      <td>0</td>\n",
       "      <td>0</td>\n",
       "    </tr>\n",
       "    <tr>\n",
       "      <th>...</th>\n",
       "      <td>...</td>\n",
       "      <td>...</td>\n",
       "      <td>...</td>\n",
       "      <td>...</td>\n",
       "      <td>...</td>\n",
       "      <td>...</td>\n",
       "    </tr>\n",
       "    <tr>\n",
       "      <th>1387</th>\n",
       "      <td>11088</td>\n",
       "      <td>83</td>\n",
       "      <td>872.0</td>\n",
       "      <td>0.0</td>\n",
       "      <td>0</td>\n",
       "      <td>0</td>\n",
       "    </tr>\n",
       "    <tr>\n",
       "      <th>1390</th>\n",
       "      <td>21533</td>\n",
       "      <td>97</td>\n",
       "      <td>0.0</td>\n",
       "      <td>0.0</td>\n",
       "      <td>0</td>\n",
       "      <td>0</td>\n",
       "    </tr>\n",
       "    <tr>\n",
       "      <th>1440</th>\n",
       "      <td>50102</td>\n",
       "      <td>123</td>\n",
       "      <td>909.0</td>\n",
       "      <td>0.0</td>\n",
       "      <td>0</td>\n",
       "      <td>0</td>\n",
       "    </tr>\n",
       "    <tr>\n",
       "      <th>1441</th>\n",
       "      <td>8098</td>\n",
       "      <td>56</td>\n",
       "      <td>1136.0</td>\n",
       "      <td>116.0</td>\n",
       "      <td>0</td>\n",
       "      <td>0</td>\n",
       "    </tr>\n",
       "    <tr>\n",
       "      <th>1448</th>\n",
       "      <td>11836</td>\n",
       "      <td>67</td>\n",
       "      <td>149.0</td>\n",
       "      <td>0.0</td>\n",
       "      <td>0</td>\n",
       "      <td>0</td>\n",
       "    </tr>\n",
       "  </tbody>\n",
       "</table>\n",
       "<p>227 rows × 6 columns</p>\n",
       "</div>"
      ],
      "text/plain": [
       "      LotArea  LotFrontage  BsmtFinSF1  BsmtFinSF2  PoolArea  MiscVal\n",
       "6        7980           44       935.0         0.0         0      500\n",
       "40       2980           40       466.0         0.0         0        0\n",
       "41       2403           40       244.0         0.0         0        0\n",
       "45      10456           74       506.0         0.0         0        0\n",
       "47      18837           70       687.0        46.0         0        0\n",
       "...       ...          ...         ...         ...       ...      ...\n",
       "1387    11088           83       872.0         0.0         0        0\n",
       "1390    21533           97         0.0         0.0         0        0\n",
       "1440    50102          123       909.0         0.0         0        0\n",
       "1441     8098           56      1136.0       116.0         0        0\n",
       "1448    11836           67       149.0         0.0         0        0\n",
       "\n",
       "[227 rows x 6 columns]"
      ]
     },
     "execution_count": 15,
     "metadata": {},
     "output_type": "execute_result"
    }
   ],
   "source": [
    "# create a new column \n",
    "X_nan.insert(loc=1, column=\"LotFrontage\", value=value_lotfrontage)\n",
    "### change the columns data type to integer  \n",
    "## add the data to the real data \n",
    "\n",
    "X_nan['LotFrontage']=X_nan['LotFrontage'].astype('int')\n",
    "X_nan\n",
    " "
   ]
  },
  {
   "cell_type": "code",
   "execution_count": 16,
   "metadata": {},
   "outputs": [
    {
     "name": "stderr",
     "output_type": "stream",
     "text": [
      "<ipython-input-16-be5faf3f9668>:3: SettingWithCopyWarning: \n",
      "A value is trying to be set on a copy of a slice from a DataFrame\n",
      "\n",
      "See the caveats in the documentation: https://pandas.pydata.org/pandas-docs/stable/user_guide/indexing.html#returning-a-view-versus-a-copy\n",
      "  df.LotFrontage[i]=X_nan.LotFrontage[i]\n"
     ]
    }
   ],
   "source": [
    "list_index=X_nan.index\n",
    "for i in list_index:\n",
    "    df.LotFrontage[i]=X_nan.LotFrontage[i]"
   ]
  },
  {
   "cell_type": "code",
   "execution_count": null,
   "metadata": {},
   "outputs": [],
   "source": []
  },
  {
   "cell_type": "markdown",
   "metadata": {},
   "source": [
    "### 2-MasVnrArea"
   ]
  },
  {
   "cell_type": "code",
   "execution_count": 17,
   "metadata": {},
   "outputs": [],
   "source": [
    "# data nan ( to prediction it )\n",
    "df_p=df[['LotArea', 'BsmtFinSF1', 'MiscVal','MasVnrArea']]\n",
    "nan_MasVnrArea = df.query('MasVnrArea==\"nan\"')\n",
    "df_p=df_p.drop(nan_MasVnrArea.index,axis=0)\n"
   ]
  },
  {
   "cell_type": "code",
   "execution_count": 18,
   "metadata": {},
   "outputs": [],
   "source": [
    "### sepreate  nan  to predict  it in model \n",
    "X_nan=nan_MasVnrArea[['LotArea', 'BsmtFinSF1', 'MiscVal']]\n",
    "X_nan=X_nan.dropna()"
   ]
  },
  {
   "cell_type": "code",
   "execution_count": 19,
   "metadata": {},
   "outputs": [],
   "source": [
    "standard_scaler=StandardScaler()\n",
    "X_nan2=standard_scaler.fit(X_nan)\n",
    "X_nan3=X_nan2.transform(X_nan)"
   ]
  },
  {
   "cell_type": "markdown",
   "metadata": {},
   "source": [
    "##  model  MasVnrArea"
   ]
  },
  {
   "cell_type": "code",
   "execution_count": 20,
   "metadata": {},
   "outputs": [],
   "source": [
    "# drop nan \n",
    "df_p=df_p.dropna()\n"
   ]
  },
  {
   "cell_type": "code",
   "execution_count": 21,
   "metadata": {},
   "outputs": [],
   "source": [
    "X=df_p[['LotArea', 'BsmtFinSF1', 'MiscVal']]\n",
    "y=df_p[['MasVnrArea']]\n"
   ]
  },
  {
   "cell_type": "code",
   "execution_count": 22,
   "metadata": {},
   "outputs": [],
   "source": [
    "standard_scaler=StandardScaler()\n",
    "X=standard_scaler.fit_transform(X)\n",
    "y=standard_scaler.fit_transform(y)"
   ]
  },
  {
   "cell_type": "code",
   "execution_count": 23,
   "metadata": {},
   "outputs": [],
   "source": [
    "x_train,x_test,y_train,y_test=train_test_split(X,y,test_size=0.25, random_state=33)"
   ]
  },
  {
   "cell_type": "code",
   "execution_count": 24,
   "metadata": {},
   "outputs": [
    {
     "data": {
      "text/plain": [
       "0.04561660682477453"
      ]
     },
     "execution_count": 24,
     "metadata": {},
     "output_type": "execute_result"
    }
   ],
   "source": [
    "# the model \n",
    "XGB=XGBRegressor(n_estimators=5000, max_depth=3, learning_rate=0.5)\n",
    "XGB=XGB.fit(X,y) \n",
    "y_pred=XGB.predict(x_test)\n",
    "mean_squared_error(y_test, y_pred,squared=False)"
   ]
  },
  {
   "cell_type": "code",
   "execution_count": 25,
   "metadata": {},
   "outputs": [],
   "source": [
    "# predict nan value \n",
    "value_MasVnrArea=XGB.predict(X_nan3)\n"
   ]
  },
  {
   "cell_type": "code",
   "execution_count": 26,
   "metadata": {},
   "outputs": [],
   "source": [
    "#convert  1D to 2D \n",
    "value_MasVnrArea=np.reshape(value_MasVnrArea,(15 ,1))"
   ]
  },
  {
   "cell_type": "markdown",
   "metadata": {},
   "source": [
    "### value of nan MasVnrArea\n"
   ]
  },
  {
   "cell_type": "code",
   "execution_count": 27,
   "metadata": {},
   "outputs": [],
   "source": [
    "# get the value \n",
    "value_MasVnrArea=standard_scaler.inverse_transform(value_MasVnrArea)\n",
    "value_MasVnrArea=list(value_MasVnrArea)\n"
   ]
  },
  {
   "cell_type": "code",
   "execution_count": 28,
   "metadata": {},
   "outputs": [
    {
     "data": {
      "text/html": [
       "<div>\n",
       "<style scoped>\n",
       "    .dataframe tbody tr th:only-of-type {\n",
       "        vertical-align: middle;\n",
       "    }\n",
       "\n",
       "    .dataframe tbody tr th {\n",
       "        vertical-align: top;\n",
       "    }\n",
       "\n",
       "    .dataframe thead th {\n",
       "        text-align: right;\n",
       "    }\n",
       "</style>\n",
       "<table border=\"1\" class=\"dataframe\">\n",
       "  <thead>\n",
       "    <tr style=\"text-align: right;\">\n",
       "      <th></th>\n",
       "      <th>LotArea</th>\n",
       "      <th>MasVnrArea</th>\n",
       "      <th>BsmtFinSF1</th>\n",
       "      <th>MiscVal</th>\n",
       "    </tr>\n",
       "  </thead>\n",
       "  <tbody>\n",
       "    <tr>\n",
       "      <th>231</th>\n",
       "      <td>12891</td>\n",
       "      <td>-126</td>\n",
       "      <td>651.0</td>\n",
       "      <td>0</td>\n",
       "    </tr>\n",
       "    <tr>\n",
       "      <th>422</th>\n",
       "      <td>8749</td>\n",
       "      <td>-54</td>\n",
       "      <td>0.0</td>\n",
       "      <td>0</td>\n",
       "    </tr>\n",
       "    <tr>\n",
       "      <th>532</th>\n",
       "      <td>7750</td>\n",
       "      <td>-31</td>\n",
       "      <td>0.0</td>\n",
       "      <td>0</td>\n",
       "    </tr>\n",
       "    <tr>\n",
       "      <th>544</th>\n",
       "      <td>10037</td>\n",
       "      <td>-47</td>\n",
       "      <td>666.0</td>\n",
       "      <td>0</td>\n",
       "    </tr>\n",
       "    <tr>\n",
       "      <th>581</th>\n",
       "      <td>7500</td>\n",
       "      <td>-33</td>\n",
       "      <td>0.0</td>\n",
       "      <td>0</td>\n",
       "    </tr>\n",
       "    <tr>\n",
       "      <th>908</th>\n",
       "      <td>5330</td>\n",
       "      <td>-50</td>\n",
       "      <td>0.0</td>\n",
       "      <td>0</td>\n",
       "    </tr>\n",
       "    <tr>\n",
       "      <th>1132</th>\n",
       "      <td>8298</td>\n",
       "      <td>-45</td>\n",
       "      <td>583.0</td>\n",
       "      <td>0</td>\n",
       "    </tr>\n",
       "    <tr>\n",
       "      <th>1197</th>\n",
       "      <td>12867</td>\n",
       "      <td>-9</td>\n",
       "      <td>0.0</td>\n",
       "      <td>0</td>\n",
       "    </tr>\n",
       "  </tbody>\n",
       "</table>\n",
       "</div>"
      ],
      "text/plain": [
       "      LotArea  MasVnrArea  BsmtFinSF1  MiscVal\n",
       "231     12891        -126       651.0        0\n",
       "422      8749         -54         0.0        0\n",
       "532      7750         -31         0.0        0\n",
       "544     10037         -47       666.0        0\n",
       "581      7500         -33         0.0        0\n",
       "908      5330         -50         0.0        0\n",
       "1132     8298         -45       583.0        0\n",
       "1197    12867          -9         0.0        0"
      ]
     },
     "execution_count": 28,
     "metadata": {},
     "output_type": "execute_result"
    }
   ],
   "source": [
    "# create a new column \n",
    "X_nan.insert(loc=1, column=\"MasVnrArea\", value=value_MasVnrArea)\n",
    "### change the columns data type to integer  \n",
    "## add the data to the real data \n",
    "\n",
    "X_nan['MasVnrArea']=X_nan['MasVnrArea'].astype('int')\n",
    "X_nan.query('MasVnrArea<0')\n",
    " "
   ]
  },
  {
   "cell_type": "code",
   "execution_count": 29,
   "metadata": {
    "scrolled": true
   },
   "outputs": [
    {
     "name": "stderr",
     "output_type": "stream",
     "text": [
      "<ipython-input-29-82b8190036b8>:4: SettingWithCopyWarning: \n",
      "A value is trying to be set on a copy of a slice from a DataFrame\n",
      "\n",
      "See the caveats in the documentation: https://pandas.pydata.org/pandas-docs/stable/user_guide/indexing.html#returning-a-view-versus-a-copy\n",
      "  X_nan['MasVnrArea'][i]=0\n"
     ]
    }
   ],
   "source": [
    "# if MasVnrArea < 0  change it value to zero \n",
    "index_list =X_nan.query('MasVnrArea<0').index\n",
    "for i in index_list:\n",
    "    X_nan['MasVnrArea'][i]=0\n"
   ]
  },
  {
   "cell_type": "code",
   "execution_count": 30,
   "metadata": {},
   "outputs": [
    {
     "name": "stderr",
     "output_type": "stream",
     "text": [
      "<ipython-input-30-0da732494fa3>:3: SettingWithCopyWarning: \n",
      "A value is trying to be set on a copy of a slice from a DataFrame\n",
      "\n",
      "See the caveats in the documentation: https://pandas.pydata.org/pandas-docs/stable/user_guide/indexing.html#returning-a-view-versus-a-copy\n",
      "  df.MasVnrArea[i]=X_nan.MasVnrArea[i]\n"
     ]
    }
   ],
   "source": [
    "list_index=X_nan.index\n",
    "for i in list_index:\n",
    "    df.MasVnrArea[i]=X_nan.MasVnrArea[i]"
   ]
  },
  {
   "cell_type": "code",
   "execution_count": 31,
   "metadata": {},
   "outputs": [
    {
     "name": "stdout",
     "output_type": "stream",
     "text": [
      "<class 'pandas.core.frame.DataFrame'>\n",
      "RangeIndex: 1459 entries, 0 to 1458\n",
      "Data columns (total 16 columns):\n",
      " #   Column        Non-Null Count  Dtype  \n",
      "---  ------        --------------  -----  \n",
      " 0   Id            1459 non-null   int64  \n",
      " 1   OverallQual   1459 non-null   int64  \n",
      " 2   GrLivArea     1459 non-null   int64  \n",
      " 3   GarageCars    1458 non-null   float64\n",
      " 4   TotalBsmtSF   1458 non-null   float64\n",
      " 5   FullBath      1459 non-null   int64  \n",
      " 6   YearBuilt     1459 non-null   int64  \n",
      " 7   YearRemodAdd  1459 non-null   int64  \n",
      " 8   MasVnrArea    1459 non-null   float64\n",
      " 9   Fireplaces    1459 non-null   int64  \n",
      " 10  BsmtFinSF1    1458 non-null   float64\n",
      " 11  Foundation    1459 non-null   object \n",
      " 12  LotFrontage   1459 non-null   float64\n",
      " 13  WoodDeckSF    1459 non-null   int64  \n",
      " 14  2ndFlrSF      1459 non-null   int64  \n",
      " 15  OpenPorchSF   1459 non-null   int64  \n",
      "dtypes: float64(5), int64(10), object(1)\n",
      "memory usage: 182.5+ KB\n"
     ]
    }
   ],
   "source": [
    "# select features we need to get the saleprice \n",
    "features =df[[ 'Id','OverallQual', 'GrLivArea', 'GarageCars', 'TotalBsmtSF',\n",
    "       'FullBath', 'YearBuilt', 'YearRemodAdd', 'MasVnrArea', 'Fireplaces',\n",
    "       'BsmtFinSF1', 'Foundation', 'LotFrontage', 'WoodDeckSF', '2ndFlrSF',\n",
    "       'OpenPorchSF']]\n",
    "features.info()"
   ]
  },
  {
   "cell_type": "code",
   "execution_count": 32,
   "metadata": {},
   "outputs": [
    {
     "name": "stdout",
     "output_type": "stream",
     "text": [
      "<class 'pandas.core.frame.DataFrame'>\n",
      "RangeIndex: 1459 entries, 0 to 1458\n",
      "Data columns (total 16 columns):\n",
      " #   Column        Non-Null Count  Dtype  \n",
      "---  ------        --------------  -----  \n",
      " 0   Id            1459 non-null   int64  \n",
      " 1   OverallQual   1459 non-null   int64  \n",
      " 2   GrLivArea     1459 non-null   int64  \n",
      " 3   GarageCars    1459 non-null   float64\n",
      " 4   TotalBsmtSF   1459 non-null   float64\n",
      " 5   FullBath      1459 non-null   int64  \n",
      " 6   YearBuilt     1459 non-null   int64  \n",
      " 7   YearRemodAdd  1459 non-null   int64  \n",
      " 8   MasVnrArea    1459 non-null   float64\n",
      " 9   Fireplaces    1459 non-null   int64  \n",
      " 10  BsmtFinSF1    1459 non-null   float64\n",
      " 11  Foundation    1459 non-null   object \n",
      " 12  LotFrontage   1459 non-null   float64\n",
      " 13  WoodDeckSF    1459 non-null   int64  \n",
      " 14  2ndFlrSF      1459 non-null   int64  \n",
      " 15  OpenPorchSF   1459 non-null   int64  \n",
      "dtypes: float64(5), int64(10), object(1)\n",
      "memory usage: 182.5+ KB\n"
     ]
    },
    {
     "name": "stderr",
     "output_type": "stream",
     "text": [
      "C:\\Users\\princ\\anaconda3\\lib\\site-packages\\pandas\\core\\frame.py:4147: SettingWithCopyWarning: \n",
      "A value is trying to be set on a copy of a slice from a DataFrame\n",
      "\n",
      "See the caveats in the documentation: https://pandas.pydata.org/pandas-docs/stable/user_guide/indexing.html#returning-a-view-versus-a-copy\n",
      "  return super().fillna(\n"
     ]
    }
   ],
   "source": [
    "#fill na  value with zero \n",
    "features.fillna(0,inplace=True)\n",
    "features.info()"
   ]
  },
  {
   "cell_type": "code",
   "execution_count": null,
   "metadata": {},
   "outputs": [],
   "source": []
  },
  {
   "cell_type": "code",
   "execution_count": 33,
   "metadata": {},
   "outputs": [
    {
     "name": "stderr",
     "output_type": "stream",
     "text": [
      "<ipython-input-33-18e1b09f033b>:3: SettingWithCopyWarning: \n",
      "A value is trying to be set on a copy of a slice from a DataFrame.\n",
      "Try using .loc[row_indexer,col_indexer] = value instead\n",
      "\n",
      "See the caveats in the documentation: https://pandas.pydata.org/pandas-docs/stable/user_guide/indexing.html#returning-a-view-versus-a-copy\n",
      "  features['Foundation']=enc.fit_transform(features[['Foundation']])\n"
     ]
    }
   ],
   "source": [
    "# convert categorical to numerical \n",
    "enc = OrdinalEncoder()\n",
    "features['Foundation']=enc.fit_transform(features[['Foundation']])"
   ]
  },
  {
   "cell_type": "code",
   "execution_count": 34,
   "metadata": {},
   "outputs": [],
   "source": [
    "features.to_csv('features_test.csv', index=False)"
   ]
  },
  {
   "cell_type": "code",
   "execution_count": null,
   "metadata": {},
   "outputs": [],
   "source": []
  },
  {
   "cell_type": "code",
   "execution_count": null,
   "metadata": {},
   "outputs": [],
   "source": []
  }
 ],
 "metadata": {
  "kernelspec": {
   "display_name": "Python 3",
   "language": "python",
   "name": "python3"
  },
  "language_info": {
   "codemirror_mode": {
    "name": "ipython",
    "version": 3
   },
   "file_extension": ".py",
   "mimetype": "text/x-python",
   "name": "python",
   "nbconvert_exporter": "python",
   "pygments_lexer": "ipython3",
   "version": "3.8.3"
  }
 },
 "nbformat": 4,
 "nbformat_minor": 4
}
